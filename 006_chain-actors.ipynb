{
 "cells": [
  {
   "cell_type": "code",
   "execution_count": 1,
   "metadata": {},
   "outputs": [
    {
     "name": "stdout",
     "output_type": "stream",
     "text": [
      "Note: to be able to use all crisp methods, you need to install some additional packages:  {'graph_tool', 'bayanpy', 'wurlitzer', 'infomap'}\n",
      "Note: to be able to use all crisp methods, you need to install some additional packages:  {'ASLPAw'}\n",
      "Note: to be able to use all crisp methods, you need to install some additional packages:  {'wurlitzer', 'infomap'}\n"
     ]
    }
   ],
   "source": [
    "import pandas as pd\n",
    "import numpy as np\n",
    "import seaborn as sns\n",
    "import matplotlib.pyplot as plt\n",
    "from scipy.stats import zscore\n",
    "from scipy.stats import entropy\n",
    "import json\n",
    "from helpers import style\n",
    "from helpers.afa import adaptive_filter\n",
    "from itertools import groupby\n",
    "from tqdm import tqdm\n",
    "from collections import Counter\n",
    "from itertools import combinations\n",
    "from collections import defaultdict\n",
    "import cdlib\n",
    "import networkx as nx\n",
    "import random\n",
    "\n",
    "from helpers.linkage import mutual_information_smooth\n",
    "from helpers.pathtools import *\n",
    "from helpers.metrics import *\n",
    "from helpers.visuals import add_cabinet_periods\n",
    "\n",
    "lda_path = '/home/rb/Documents/Data/models/lda/postwar-v3/'\n",
    "\n",
    "style.load_style()\n",
    "\n",
    "from helpers.dataloader import load"
   ]
  },
  {
   "cell_type": "code",
   "execution_count": 2,
   "metadata": {},
   "outputs": [],
   "source": [
    "dists, dat, keys = load(quick_return=True)"
   ]
  },
  {
   "cell_type": "code",
   "execution_count": 3,
   "metadata": {},
   "outputs": [],
   "source": [
    "## Dists for Linkage Calculation\n",
    "dists = dists.groupby(dat[['topic_id','member-ref']].astype(str).agg('_'.join,axis=1)).mean()\n",
    "topic_sesst = dict(zip(dat.topic_id,dat.sess_type))\n",
    "topic_dates = dict(zip(dat.topic_id,dat.date))\n",
    "topic_dates = {topic:pd.Timestamp(year = _.year, month = 1 if _.month < 7 else 6, day = 1) for topic,_ in topic_dates.items()}\n",
    "\n",
    "dists = dists[dists.index.str.split('_').str[0].map(topic_sesst) == 'plenary']\n",
    "\n",
    "dists = dists[[v for v in dists.columns if 'rhet' not in keys[int(v)] and 'nonse' not in keys[int(v)] and 'proc' not in keys[int(v)]]]\n",
    "dists = dists.div(dists.sum(axis=1), axis=0)\n",
    "\n",
    "# Select TOPIC-MEMBER pairs based on above-average topic use\n",
    "tm_dates = {i:(topic_dates[i.split('_')[0]],i.split('_')[1]) for i in dists.index}\n",
    "mb_per_top = dists.groupby(dists.index.map(tm_dates)).mean().apply(zscore,axis=0)\n",
    "mb_per_top_d = mb_per_top.apply(lambda row: row[row > 0].index.tolist(), axis=1).to_dict()\n",
    "\n",
    "# Filter Dist\n",
    "dz = dists.apply(zscore,axis=0)\n",
    "dists = dists.where(dz >= 0, 0.0000000000001)\n",
    "dists = dists.div(dists.sum(axis=1), axis=0)"
   ]
  },
  {
   "cell_type": "code",
   "execution_count": 4,
   "metadata": {},
   "outputs": [],
   "source": [
    "mb_per_top_d = {}\n",
    "\n",
    "for date, _ in dists.groupby(dists.index.str.split('_').str[0].map(topic_dates)):\n",
    "    p_topic = _.mean()\n",
    "    for mb,dd in _.groupby(_.index.str.split('_').str[1]):\n",
    "        dd = dd.mean()\n",
    "        dd = zscore(dd / p_topic)\n",
    "        dd = dd[dd > 1].index.astype(int).map(keys).tolist()\n",
    "        mb_per_top_d[(date,mb)] = dd"
   ]
  },
  {
   "cell_type": "code",
   "execution_count": 5,
   "metadata": {},
   "outputs": [],
   "source": [
    "dists.index = dists.index.str.split('_').str[0].map(topic_dates)\n",
    "\n",
    "networks = {}\n",
    "size_dicts = {}\n",
    "\n",
    "for cd,(date, _) in enumerate(dists.groupby(dists.index)):\n",
    "    rij, ri, m = mutual_information_smooth(theta = _.to_numpy())\n",
    "    rij = pd.DataFrame(rij, index=[keys[int(i)] for i in _.columns], columns=[keys[int(i)] for i in _.columns])\n",
    "    rij = rij.stack().reset_index().rename(columns={\"level_0\":\"s\",\"level_1\":\"t\",0:\"pmi\"})\n",
    "    rij = rij[(rij.s != rij.t) & (rij.pmi > 0)]\n",
    "\n",
    "    sizes = _.mean()\n",
    "    sizes.index = sizes.index.astype(int).map(keys)\n",
    "    sizes = sizes.to_dict()\n",
    "    g = nx.from_pandas_edgelist(df = rij, source='s', target='t', edge_attr=['pmi'])\n",
    "    networks[date] = g\n",
    "    size_dicts[cd] = list(sizes.items())"
   ]
  },
  {
   "cell_type": "code",
   "execution_count": 6,
   "metadata": {},
   "outputs": [],
   "source": [
    "def connect_mb(dists, networks, tc):\n",
    "    network_periods = list(sorted(networks.keys()))\n",
    "    dat_long = []\n",
    "    for period in tqdm(sorted(dists.index.unique())):\n",
    "        mbd = {mb:tops for (date,mb),tops in mb_per_top_d.items() if date == date}\n",
    "        pix = network_periods.index(period)\n",
    "        cm_mbd = {comm:[(mb,overlap_coefficient(set(tps),set(tops))) for mb,tops in mbd.items()] for comm,tps in enumerate(tc.get_clustering_at(pix).communities)}\n",
    "        if len(cm_mbd.items()) > 1:\n",
    "            \n",
    "            for clusn, members in cm_mbd.items():\n",
    "                tc_format = f\"{pix}_{clusn}\"\n",
    "                for m,ov in members:\n",
    "                    dat_long.append({\"period\":period,\"clusn\":clusn,\"mb\":m,\"ov\":ov,\"cid\":tc_format,\"clus_size\":len(tc.get_community(tc_format))})\n",
    "    return pd.DataFrame(dat_long)"
   ]
  },
  {
   "cell_type": "code",
   "execution_count": 7,
   "metadata": {},
   "outputs": [
    {
     "name": "stderr",
     "output_type": "stream",
     "text": [
      "100%|██████████| 95/95 [00:04<00:00, 21.17it/s]\n"
     ]
    }
   ],
   "source": [
    "tc, g, sizes, paths, metadata = get_tc(networks, size_dicts, overlap_threshold=.45, louvain_res=2.5,min_chain_len=4,verbose=False)\n",
    "dl = connect_mb(dists, networks, tc)"
   ]
  },
  {
   "cell_type": "markdown",
   "metadata": {},
   "source": [
    "# Path Matching\n",
    "\n",
    "Match paths to members, calculate specialist overlap with previous periods within every path (with bootstrapping)."
   ]
  },
  {
   "cell_type": "code",
   "execution_count": 8,
   "metadata": {},
   "outputs": [
    {
     "name": "stderr",
     "output_type": "stream",
     "text": [
      "100%|██████████| 95/95 [00:04<00:00, 21.19it/s]\n",
      "100%|██████████| 95/95 [00:04<00:00, 19.11it/s]\n",
      "100%|██████████| 95/95 [00:04<00:00, 19.63it/s]\n",
      "100%|██████████| 95/95 [00:04<00:00, 20.74it/s]\n",
      "100%|██████████| 95/95 [00:04<00:00, 20.65it/s]\n",
      "100%|██████████| 95/95 [00:04<00:00, 20.47it/s]\n",
      "100%|██████████| 95/95 [00:04<00:00, 21.12it/s]\n",
      "100%|██████████| 95/95 [00:04<00:00, 20.58it/s]\n",
      "100%|██████████| 95/95 [00:04<00:00, 21.55it/s]\n",
      "100%|██████████| 95/95 [00:04<00:00, 21.17it/s]\n"
     ]
    }
   ],
   "source": [
    "r = []\n",
    "for _ in range(10):\n",
    "    tc, g, sizes, paths, metadata = get_tc(networks, size_dicts, overlap_threshold=.45, louvain_res=3,min_chain_len=4,verbose=False)\n",
    "    dl = connect_mb(dists, networks, tc)\n",
    "    dld = dl[dl.ov > .35].groupby('cid').apply(lambda g:g.mb.tolist()).to_dict()\n",
    "    path_mbs = [[dld.get(x) for x in p] for p in paths]\n",
    "    results = [\n",
    "        {\n",
    "            \"path_id\": cc,\n",
    "            \"path_ix\": c,\n",
    "            \"path_start\": int(paths[cc][0].split('_')[0]),\n",
    "            \"overlap\": overlap_coefficient(set(e), set(p[c-1]))\n",
    "        }\n",
    "        for cc, p in enumerate(path_mbs)\n",
    "        for c, e in enumerate(p) if c != 0\n",
    "    ]\n",
    "    results = pd.DataFrame(results)\n",
    "    results['iter'] = _\n",
    "    r.append(results)"
   ]
  },
  {
   "cell_type": "code",
   "execution_count": 16,
   "metadata": {},
   "outputs": [
    {
     "ename": "TypeError",
     "evalue": "first argument must be an iterable of pandas objects, you passed an object of type \"DataFrame\"",
     "output_type": "error",
     "traceback": [
      "\u001b[0;31m---------------------------------------------------------------------------\u001b[0m",
      "\u001b[0;31mTypeError\u001b[0m                                 Traceback (most recent call last)",
      "Cell \u001b[0;32mIn[16], line 4\u001b[0m\n\u001b[1;32m      1\u001b[0m \u001b[38;5;66;03m## Plot\u001b[39;00m\n\u001b[1;32m      2\u001b[0m f,a \u001b[38;5;241m=\u001b[39m plt\u001b[38;5;241m.\u001b[39msubplots(\u001b[38;5;241m1\u001b[39m,\u001b[38;5;241m1\u001b[39m,figsize\u001b[38;5;241m=\u001b[39m(\u001b[38;5;241m4\u001b[39m,\u001b[38;5;241m3\u001b[39m))\n\u001b[0;32m----> 4\u001b[0m r \u001b[38;5;241m=\u001b[39m \u001b[43mpd\u001b[49m\u001b[38;5;241;43m.\u001b[39;49m\u001b[43mconcat\u001b[49m\u001b[43m(\u001b[49m\u001b[43mr\u001b[49m\u001b[43m)\u001b[49m\n\u001b[1;32m      6\u001b[0m sns\u001b[38;5;241m.\u001b[39mlineplot(data\u001b[38;5;241m=\u001b[39mr,x\u001b[38;5;241m=\u001b[39m\u001b[38;5;124m'\u001b[39m\u001b[38;5;124mpath_ix\u001b[39m\u001b[38;5;124m'\u001b[39m,y\u001b[38;5;241m=\u001b[39m\u001b[38;5;124m'\u001b[39m\u001b[38;5;124moverlap\u001b[39m\u001b[38;5;124m'\u001b[39m,ax\u001b[38;5;241m=\u001b[39ma,color\u001b[38;5;241m=\u001b[39m\u001b[38;5;124m'\u001b[39m\u001b[38;5;124mblack\u001b[39m\u001b[38;5;124m'\u001b[39m)\n\u001b[1;32m      8\u001b[0m a\u001b[38;5;241m.\u001b[39mset_xlim(\u001b[38;5;241m1\u001b[39m,\u001b[38;5;241m15\u001b[39m)\n",
      "File \u001b[0;32m~/.virtualenvs/phd_venv/lib/python3.10/site-packages/pandas/core/reshape/concat.py:382\u001b[0m, in \u001b[0;36mconcat\u001b[0;34m(objs, axis, join, ignore_index, keys, levels, names, verify_integrity, sort, copy)\u001b[0m\n\u001b[1;32m    379\u001b[0m \u001b[38;5;28;01melif\u001b[39;00m copy \u001b[38;5;129;01mand\u001b[39;00m using_copy_on_write():\n\u001b[1;32m    380\u001b[0m     copy \u001b[38;5;241m=\u001b[39m \u001b[38;5;28;01mFalse\u001b[39;00m\n\u001b[0;32m--> 382\u001b[0m op \u001b[38;5;241m=\u001b[39m \u001b[43m_Concatenator\u001b[49m\u001b[43m(\u001b[49m\n\u001b[1;32m    383\u001b[0m \u001b[43m    \u001b[49m\u001b[43mobjs\u001b[49m\u001b[43m,\u001b[49m\n\u001b[1;32m    384\u001b[0m \u001b[43m    \u001b[49m\u001b[43maxis\u001b[49m\u001b[38;5;241;43m=\u001b[39;49m\u001b[43maxis\u001b[49m\u001b[43m,\u001b[49m\n\u001b[1;32m    385\u001b[0m \u001b[43m    \u001b[49m\u001b[43mignore_index\u001b[49m\u001b[38;5;241;43m=\u001b[39;49m\u001b[43mignore_index\u001b[49m\u001b[43m,\u001b[49m\n\u001b[1;32m    386\u001b[0m \u001b[43m    \u001b[49m\u001b[43mjoin\u001b[49m\u001b[38;5;241;43m=\u001b[39;49m\u001b[43mjoin\u001b[49m\u001b[43m,\u001b[49m\n\u001b[1;32m    387\u001b[0m \u001b[43m    \u001b[49m\u001b[43mkeys\u001b[49m\u001b[38;5;241;43m=\u001b[39;49m\u001b[43mkeys\u001b[49m\u001b[43m,\u001b[49m\n\u001b[1;32m    388\u001b[0m \u001b[43m    \u001b[49m\u001b[43mlevels\u001b[49m\u001b[38;5;241;43m=\u001b[39;49m\u001b[43mlevels\u001b[49m\u001b[43m,\u001b[49m\n\u001b[1;32m    389\u001b[0m \u001b[43m    \u001b[49m\u001b[43mnames\u001b[49m\u001b[38;5;241;43m=\u001b[39;49m\u001b[43mnames\u001b[49m\u001b[43m,\u001b[49m\n\u001b[1;32m    390\u001b[0m \u001b[43m    \u001b[49m\u001b[43mverify_integrity\u001b[49m\u001b[38;5;241;43m=\u001b[39;49m\u001b[43mverify_integrity\u001b[49m\u001b[43m,\u001b[49m\n\u001b[1;32m    391\u001b[0m \u001b[43m    \u001b[49m\u001b[43mcopy\u001b[49m\u001b[38;5;241;43m=\u001b[39;49m\u001b[43mcopy\u001b[49m\u001b[43m,\u001b[49m\n\u001b[1;32m    392\u001b[0m \u001b[43m    \u001b[49m\u001b[43msort\u001b[49m\u001b[38;5;241;43m=\u001b[39;49m\u001b[43msort\u001b[49m\u001b[43m,\u001b[49m\n\u001b[1;32m    393\u001b[0m \u001b[43m\u001b[49m\u001b[43m)\u001b[49m\n\u001b[1;32m    395\u001b[0m \u001b[38;5;28;01mreturn\u001b[39;00m op\u001b[38;5;241m.\u001b[39mget_result()\n",
      "File \u001b[0;32m~/.virtualenvs/phd_venv/lib/python3.10/site-packages/pandas/core/reshape/concat.py:419\u001b[0m, in \u001b[0;36m_Concatenator.__init__\u001b[0;34m(self, objs, axis, join, keys, levels, names, ignore_index, verify_integrity, copy, sort)\u001b[0m\n\u001b[1;32m    405\u001b[0m \u001b[38;5;28;01mdef\u001b[39;00m \u001b[38;5;21m__init__\u001b[39m(\n\u001b[1;32m    406\u001b[0m     \u001b[38;5;28mself\u001b[39m,\n\u001b[1;32m    407\u001b[0m     objs: Iterable[Series \u001b[38;5;241m|\u001b[39m DataFrame] \u001b[38;5;241m|\u001b[39m Mapping[HashableT, Series \u001b[38;5;241m|\u001b[39m DataFrame],\n\u001b[0;32m   (...)\u001b[0m\n\u001b[1;32m    416\u001b[0m     sort: \u001b[38;5;28mbool\u001b[39m \u001b[38;5;241m=\u001b[39m \u001b[38;5;28;01mFalse\u001b[39;00m,\n\u001b[1;32m    417\u001b[0m ) \u001b[38;5;241m-\u001b[39m\u001b[38;5;241m>\u001b[39m \u001b[38;5;28;01mNone\u001b[39;00m:\n\u001b[1;32m    418\u001b[0m     \u001b[38;5;28;01mif\u001b[39;00m \u001b[38;5;28misinstance\u001b[39m(objs, (ABCSeries, ABCDataFrame, \u001b[38;5;28mstr\u001b[39m)):\n\u001b[0;32m--> 419\u001b[0m         \u001b[38;5;28;01mraise\u001b[39;00m \u001b[38;5;167;01mTypeError\u001b[39;00m(\n\u001b[1;32m    420\u001b[0m             \u001b[38;5;124m\"\u001b[39m\u001b[38;5;124mfirst argument must be an iterable of pandas \u001b[39m\u001b[38;5;124m\"\u001b[39m\n\u001b[1;32m    421\u001b[0m             \u001b[38;5;124mf\u001b[39m\u001b[38;5;124m'\u001b[39m\u001b[38;5;124mobjects, you passed an object of type \u001b[39m\u001b[38;5;124m\"\u001b[39m\u001b[38;5;132;01m{\u001b[39;00m\u001b[38;5;28mtype\u001b[39m(objs)\u001b[38;5;241m.\u001b[39m\u001b[38;5;18m__name__\u001b[39m\u001b[38;5;132;01m}\u001b[39;00m\u001b[38;5;124m\"\u001b[39m\u001b[38;5;124m'\u001b[39m\n\u001b[1;32m    422\u001b[0m         )\n\u001b[1;32m    424\u001b[0m     \u001b[38;5;28;01mif\u001b[39;00m join \u001b[38;5;241m==\u001b[39m \u001b[38;5;124m\"\u001b[39m\u001b[38;5;124mouter\u001b[39m\u001b[38;5;124m\"\u001b[39m:\n\u001b[1;32m    425\u001b[0m         \u001b[38;5;28mself\u001b[39m\u001b[38;5;241m.\u001b[39mintersect \u001b[38;5;241m=\u001b[39m \u001b[38;5;28;01mFalse\u001b[39;00m\n",
      "\u001b[0;31mTypeError\u001b[0m: first argument must be an iterable of pandas objects, you passed an object of type \"DataFrame\""
     ]
    },
    {
     "data": {
      "image/png": "[encoded data removed]",
      "text/plain": [
       "<Figure size 400x300 with 1 Axes>"
      ]
     },
     "metadata": {},
     "output_type": "display_data"
    }
   ],
   "source": [
    "## Plot\n",
    "f,a = plt.subplots(1,1,figsize=(4,3))\n",
    "\n",
    "r = pd.concat(r)\n",
    "\n",
    "sns.lineplot(data=r,x='path_ix',y='overlap',ax=a,color='black')\n",
    "\n",
    "a.set_xlim(1,15)\n",
    "# a.set_ylim(.4,.9)\n",
    "\n",
    "# a.set_title(''.upper(),fontweight='bold',fontsize=15)\n",
    "a.set_xlabel('Path Index'.upper(),labelpad=10,fontsize=15)\n",
    "a.set_ylabel('Overlap Ratio'.upper(),labelpad=10,fontsize=15)\n",
    "plt.savefig('figs/path-mb-overlap.png',dpi=400,bbox_inches='tight')\n",
    "plt.show()"
   ]
  },
  {
   "cell_type": "code",
   "execution_count": 10,
   "metadata": {},
   "outputs": [],
   "source": [
    "def chain2topic(tc,chain,s=4):\n",
    "    topics = []\n",
    "    for cluster in chain:\n",
    "        topics += tc.get_community(cluster)\n",
    "    return ', '.join([f\"{t} ({c})\" for t,c in Counter(topics).most_common(s)])"
   ]
  },
  {
   "cell_type": "code",
   "execution_count": 11,
   "metadata": {},
   "outputs": [],
   "source": [
    "rmd = []\n",
    "for cix , (pmb,p) in enumerate(zip(path_mbs,paths)):\n",
    "    ttrt = Counter([item for items in p for item in tc.get_community(items)])\n",
    "    ttrt = [v for k,v in ttrt.items()]\n",
    "    ttrt = [v / sum(ttrt) for v in ttrt]\n",
    "    # ttrt = len(set(ttrt)) / len(ttrt)\n",
    "    ttrm = Counter([item for items in pmb for item in items])\n",
    "    ttrm = [v for k,v in ttrm.items()]\n",
    "    ttrm = [v / sum(ttrm) for v in ttrm]\n",
    "    # ttrm = len(set(ttrm)) / len(ttrm)\n",
    "    rmd.append({\"cix\":cix,\"ttrt\":sum([v**2 for v in ttrt]),\"ttrm\":sum([v**2 for v in ttrm]),\"size\":len(p) * 5})"
   ]
  },
  {
   "cell_type": "code",
   "execution_count": 12,
   "metadata": {},
   "outputs": [],
   "source": [
    "simp = []\n",
    "\n",
    "for cc,pp in enumerate(paths):\n",
    "    for ccc,ppp in enumerate(paths):\n",
    "        if cc != ccc:\n",
    "            s1 = set([item for items in pp for item in tc.get_community(items)])\n",
    "            s2 = set([item for items in ppp for item in tc.get_community(items)])\n",
    "            simp.append({\"p1\":cc,\"p2\":ccc,\"o\":jaccard_similarity(s1,s2)})\n",
    "simp = pd.DataFrame(simp)\n",
    "simp = simp[simp.o > .5]"
   ]
  },
  {
   "cell_type": "code",
   "execution_count": 13,
   "metadata": {},
   "outputs": [],
   "source": [
    "rmd = pd.DataFrame(rmd)#.plot.scatter(x='ttrt',y='ttrm',ylabel='Dyn. Comm. Topic Entropy',xlabel='Dyn. Comm. Member Entropy')"
   ]
  },
  {
   "cell_type": "code",
   "execution_count": 23,
   "metadata": {},
   "outputs": [],
   "source": [
    "import statsmodels.api as sm\n",
    "\n",
    "def plot_confidence_interval(x, y, ax, color='blue', alpha=0.2):\n",
    "    # Ensure numpy arrays\n",
    "    x = np.array(x)\n",
    "    y = np.array(y)\n",
    "    \n",
    "    # Fit regression model\n",
    "    X = sm.add_constant(x)  # Adds a constant term to the predictor\n",
    "    model = sm.OLS(y, X).fit()\n",
    "    predictions = model.predict(X)\n",
    "    \n",
    "    # Get prediction intervals\n",
    "    pred = model.get_prediction(X)\n",
    "    pred_summary = pred.summary_frame(alpha=alpha)\n",
    "    \n",
    "    # Plot regression line\n",
    "    ax.plot(x, predictions, color=color, linestyle='--')\n",
    "    \n",
    "    # Plot confidence interval band\n",
    "    # ax.fill_between(x, pred_summary['mean_ci_lower'], pred_summary['mean_ci_upper'], color=color, alpha=alpha, label='Confidence Interval')"
   ]
  },
  {
   "cell_type": "code",
   "execution_count": 24,
   "metadata": {},
   "outputs": [
    {
     "data": {
      "image/png": "[encoded data removed]",
      "text/plain": [
       "<Figure size 600x400 with 1 Axes>"
      ]
     },
     "metadata": {},
     "output_type": "display_data"
    }
   ],
   "source": [
    "f,a=plt.subplots(figsize=(6,4))\n",
    "sns.scatterplot(data=rmd,x='ttrm',y='ttrt',size='size',ax=a,legend=False,color='black',edgecolor='white')\n",
    "\n",
    "plot_confidence_interval(rmd.ttrm,rmd.ttrt,ax=a,color='darkgrey')\n",
    "# a.set_yscale('log')\n",
    "# a.set_xscale('log')\n",
    "a.set_ylabel('Chain Topic Entropy'.upper())\n",
    "a.set_xlabel('Chain Member Entropy'.upper())\n",
    "plt.savefig('figs/chain-tp-mb-entropy.png',dpi=400,bbox_inches='tight')\n",
    "plt.show()"
   ]
  }
 ],
 "metadata": {
  "kernelspec": {
   "display_name": "Python 3",
   "language": "python",
   "name": "python3"
  },
  "language_info": {
   "codemirror_mode": {
    "name": "ipython",
    "version": 3
   },
   "file_extension": ".py",
   "mimetype": "text/x-python",
   "name": "python",
   "nbconvert_exporter": "python",
   "pygments_lexer": "ipython3",
   "version": "3.10.12"
  },
  "orig_nbformat": 4
 },
 "nbformat": 4,
 "nbformat_minor": 2
}
