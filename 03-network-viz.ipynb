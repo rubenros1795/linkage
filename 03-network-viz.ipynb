{
 "cells": [
  {
   "cell_type": "code",
   "execution_count": null,
   "id": "d2c99a16",
   "metadata": {},
   "outputs": [],
   "source": [
    "import pandas as pd\n",
    "from tqdm import tqdm\n",
    "from top2vec import Top2Vec\n",
    "import matplotlib.pyplot as plt\n",
    "import numpy as np\n",
    "from scipy.stats import zscore\n",
    "from pathlib import Path\n",
    "import yaml \n",
    "import os\n",
    "import igraph\n",
    "\n",
    "from helpers.linkage import *\n",
    "from helpers import dataloader\n",
    "from helpers.afa import adaptive_filter\n",
    "from helpers.visuals import add_cabinet_periods\n",
    "from helpers import metrics as mc\n",
    "from helpers import infodynamics\n",
    "\n",
    "cf = yaml.safe_load(Path('config.yml').read_text())"
   ]
  },
  {
   "cell_type": "code",
   "execution_count": null,
   "id": "c05e6c3c",
   "metadata": {},
   "outputs": [],
   "source": [
    "data = dataloader.load()\n",
    "dists, labels, words, sem_col_translator = data['dists'],data['labels'],data['words'],data['translator']"
   ]
  },
  {
   "cell_type": "code",
   "execution_count": null,
   "id": "a4dd6a90",
   "metadata": {},
   "outputs": [],
   "source": [
    "# Create a dictionary of day:theta pairs\n",
    "dict_date_theta = {d:_.to_numpy() for d,_ in dists.groupby(dists.index.to_period('M'))}\n",
    "stats, mi_arrays = diachronic_linkage(dict_date_theta)\n",
    "dict_str_period = {p.strftime('%Y-%m'):p for p in mi_arrays.keys()}\n",
    "# ps = [str(x) + '-09' for x in range(1948,1963,2)]"
   ]
  },
  {
   "cell_type": "code",
   "execution_count": null,
   "id": "e449f7a3",
   "metadata": {},
   "outputs": [],
   "source": [
    "def plot_network(month,ax,zscore_threshold,model_type='lda'):\n",
    "    \"\"\"\n",
    "    month (str): 1945-01\n",
    "    \"\"\"\n",
    "\n",
    "    mi_array_target_date = mi_arrays[dict_str_period[month]]\n",
    "    mi_array_target_date[mi_array_target_date < 0] = 0 # set all negative linkages to zero\n",
    "\n",
    "    # Flatten Mutual Information array, apply zscores, filter, add labels (N.B., some labels occur more than once)\n",
    "    fmx = flatten_mi_array(mi_array_target_date)\n",
    "    fmx[2] = fmx[[2]].apply(zscore)\n",
    "    fmx = fmx[fmx[2] > zscore_threshold]\n",
    "    if model_type == 'top2vec':\n",
    "        fmx[0] = [labels[sem_col_translator[x]] for x in fmx[0]]\n",
    "        fmx[1] = [labels[sem_col_translator[x]] for x in fmx[1]]\n",
    "    else:\n",
    "        fmx[0] = [words[x][:15] for x in fmx[0]]\n",
    "        fmx[1] = [words[x][:15] for x in fmx[1]]\n",
    "    fmx.columns = ['source','target','weight']\n",
    "    fmx = fmx[fmx.source != fmx.target]\n",
    "\n",
    "    # Prepare Network Format\n",
    "    fmx['weight'] = fmx.weight * 500\n",
    "    tuples = [tuple(x) for x in fmx.values]\n",
    "    G = igraph.Graph.TupleList(tuples, directed = True, edge_attrs = ['weight'])\n",
    "    weights= G.es['weight']\n",
    "    G = G.as_undirected()\n",
    "    mlc = G.community_multilevel()\n",
    "    visual_style = dict()\n",
    "    visual_style[\"bbox\"] = (500, 500)\n",
    "    visual_style[\"vertex_label\"] = G.vs[\"name\"]\n",
    "    igraph.plot(mlc,mark_groups = True,target=ax,**visual_style)\n",
    "    ax.set_title(month)\n",
    "    return G,weights"
   ]
  },
  {
   "cell_type": "code",
   "execution_count": null,
   "id": "6d1296a8",
   "metadata": {},
   "outputs": [],
   "source": [
    "fig,axs = plt.subplots(2,4,figsize=(30,20))\n",
    "ps = [str(x) + '-09' for x in range(1948,1963,2)]\n",
    "c = 0\n",
    "for c,ax in enumerate(axs.flatten()):\n",
    "    plot_network(ps[c],ax,1.5,model_type='lda')\n",
    "    c += 1\n",
    "\n",
    "# plt.savefig('figs/example-network-zscorethres-6.pdf')"
   ]
  },
  {
   "cell_type": "code",
   "execution_count": null,
   "id": "0c79ec46",
   "metadata": {},
   "outputs": [],
   "source": []
  }
 ],
 "metadata": {
  "kernelspec": {
   "display_name": "phd_venv",
   "language": "python",
   "name": "python3"
  },
  "language_info": {
   "codemirror_mode": {
    "name": "ipython",
    "version": 3
   },
   "file_extension": ".py",
   "mimetype": "text/x-python",
   "name": "python",
   "nbconvert_exporter": "python",
   "pygments_lexer": "ipython3",
   "version": "3.10.6 (main, Nov 10 2011, 15:00:00) [GCC 12.1.0]"
  },
  "vscode": {
   "interpreter": {
    "hash": "e8506529497a143c67e9e6ae3be7b51d1cb8f568d3562eff23fc916c00ba57ea"
   }
  }
 },
 "nbformat": 4,
 "nbformat_minor": 5
}
