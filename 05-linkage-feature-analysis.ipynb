{
 "cells": [
  {
   "cell_type": "code",
   "execution_count": 1,
   "id": "d2c99a16",
   "metadata": {},
   "outputs": [
    {
     "name": "stderr",
     "output_type": "stream",
     "text": [
      "/home/rb/.virtualenvs/phd_venv/lib/python3.10/site-packages/tqdm/auto.py:22: TqdmWarning: IProgress not found. Please update jupyter and ipywidgets. See https://ipywidgets.readthedocs.io/en/stable/user_install.html\n",
      "  from .autonotebook import tqdm as notebook_tqdm\n"
     ]
    }
   ],
   "source": [
    "import pandas as pd\n",
    "from tqdm import tqdm\n",
    "from top2vec import Top2Vec\n",
    "import matplotlib.pyplot as plt\n",
    "import numpy as np\n",
    "from scipy.stats import zscore\n",
    "from pathlib import Path\n",
    "import yaml \n",
    "import os\n",
    "\n",
    "from helpers.linkage import *\n",
    "from helpers import dataloader\n",
    "from helpers.afa import adaptive_filter\n",
    "from helpers.visuals import add_cabinet_periods\n",
    "from helpers import metrics as mc\n",
    "from helpers import infodynamics\n",
    "\n",
    "cf = yaml.safe_load(Path('config.yml').read_text())"
   ]
  },
  {
   "cell_type": "code",
   "execution_count": 2,
   "id": "c05e6c3c",
   "metadata": {},
   "outputs": [],
   "source": [
    "data = dataloader.load()\n",
    "dists, labels, words, sem_col_translator = data['dists'],data['labels'],data['words'],data['translator']"
   ]
  },
  {
   "cell_type": "code",
   "execution_count": 3,
   "id": "e2de411b",
   "metadata": {},
   "outputs": [],
   "source": [
    "data = data['data']"
   ]
  },
  {
   "cell_type": "code",
   "execution_count": 4,
   "id": "a4dd6a90",
   "metadata": {},
   "outputs": [
    {
     "name": "stderr",
     "output_type": "stream",
     "text": [
      " 70%|██████▉   | 1166/1667 [00:08<00:03, 140.41it/s]\n"
     ]
    },
    {
     "ename": "KeyboardInterrupt",
     "evalue": "",
     "output_type": "error",
     "traceback": [
      "\u001b[0;31m---------------------------------------------------------------------------\u001b[0m",
      "\u001b[0;31mKeyboardInterrupt\u001b[0m                         Traceback (most recent call last)",
      "Cell \u001b[0;32mIn[4], line 5\u001b[0m\n\u001b[1;32m      2\u001b[0m mi_arrays \u001b[39m=\u001b[39m {d:_\u001b[39m.\u001b[39mto_numpy() \u001b[39mfor\u001b[39;00m d,_ \u001b[39min\u001b[39;00m dists\u001b[39m.\u001b[39mgroupby(dists\u001b[39m.\u001b[39mindex)}\n\u001b[1;32m      4\u001b[0m \u001b[39m# Calculate Linkage\u001b[39;00m\n\u001b[0;32m----> 5\u001b[0m stats, mi_arrays \u001b[39m=\u001b[39m diachronic_linkage(mi_arrays)\n\u001b[1;32m      7\u001b[0m \u001b[39m# Flatten MI-matrices, parse to dict\u001b[39;00m\n\u001b[1;32m      8\u001b[0m mi_arrays_flat \u001b[39m=\u001b[39m {k:flatten_mi_array(v) \u001b[39mfor\u001b[39;00m k,v \u001b[39min\u001b[39;00m tqdm(mi_arrays\u001b[39m.\u001b[39mitems())}\n",
      "File \u001b[0;32m~/Documents/GitHub/linkage/helpers/linkage.py:31\u001b[0m, in \u001b[0;36mdiachronic_linkage\u001b[0;34m(dict_date_theta)\u001b[0m\n\u001b[1;32m     28\u001b[0m mi_arrays \u001b[39m=\u001b[39m {}\n\u001b[1;32m     30\u001b[0m \u001b[39mfor\u001b[39;00m date, theta \u001b[39min\u001b[39;00m tqdm(dict_date_theta\u001b[39m.\u001b[39mitems()):\n\u001b[0;32m---> 31\u001b[0m     mi_, r, m \u001b[39m=\u001b[39m mutual_information(theta\u001b[39m=\u001b[39;49mtheta)\n\u001b[1;32m     32\u001b[0m     stats\u001b[39m.\u001b[39mappend({\u001b[39m\"\u001b[39m\u001b[39mdate\u001b[39m\u001b[39m\"\u001b[39m:date,\u001b[39m\"\u001b[39m\u001b[39mmi_mu\u001b[39m\u001b[39m\"\u001b[39m:mi_\u001b[39m.\u001b[39mmean(),\u001b[39m\"\u001b[39m\u001b[39mmi_sigma\u001b[39m\u001b[39m\"\u001b[39m:mi_\u001b[39m.\u001b[39mstd(),\u001b[39m\"\u001b[39m\u001b[39mr_mu\u001b[39m\u001b[39m\"\u001b[39m:r\u001b[39m.\u001b[39mmean(),\u001b[39m\"\u001b[39m\u001b[39mr_sigma\u001b[39m\u001b[39m\"\u001b[39m:r\u001b[39m.\u001b[39mstd(),\u001b[39m\"\u001b[39m\u001b[39mm\u001b[39m\u001b[39m\"\u001b[39m:m})\n\u001b[1;32m     33\u001b[0m     mi_arrays\u001b[39m.\u001b[39mupdate({date:mi_})\n",
      "File \u001b[0;32m~/Documents/GitHub/linkage/helpers/linkage.py:13\u001b[0m, in \u001b[0;36mmutual_information\u001b[0;34m(theta)\u001b[0m\n\u001b[1;32m      6\u001b[0m \u001b[39m\u001b[39m\u001b[39m\"\"\"\u001b[39;00m\n\u001b[1;32m      7\u001b[0m \u001b[39mtheta (np.array): numpy array with rows as document-topic mixtures:\u001b[39;00m\n\u001b[1;32m      8\u001b[0m \u001b[39m\u001b[39;00m\n\u001b[1;32m      9\u001b[0m \u001b[39mreturns:\u001b[39;00m\n\u001b[1;32m     10\u001b[0m \u001b[39mR_ij: np.array of linkage scores as measured with mutual information\u001b[39;00m\n\u001b[1;32m     11\u001b[0m \u001b[39m\"\"\"\u001b[39;00m\n\u001b[1;32m     12\u001b[0m p_ij \u001b[39m=\u001b[39m theta[:,:,\u001b[39mNone\u001b[39;00m] \u001b[39m*\u001b[39m theta[:,\u001b[39mNone\u001b[39;00m,:]\n\u001b[0;32m---> 13\u001b[0m p_ij \u001b[39m=\u001b[39m p_ij\u001b[39m.\u001b[39msum(axis\u001b[39m=\u001b[39m\u001b[39m0\u001b[39m) \u001b[39m/\u001b[39m p_ij\u001b[39m.\u001b[39;49msum()\n\u001b[1;32m     14\u001b[0m pt_i \u001b[39m=\u001b[39m theta\u001b[39m.\u001b[39msum(axis\u001b[39m=\u001b[39m\u001b[39m0\u001b[39m)\n\u001b[1;32m     15\u001b[0m pt_i \u001b[39m=\u001b[39m pt_i \u001b[39m/\u001b[39m pt_i\u001b[39m.\u001b[39msum()\n",
      "File \u001b[0;32m~/.virtualenvs/phd_venv/lib/python3.10/site-packages/numpy/core/_methods.py:48\u001b[0m, in \u001b[0;36m_sum\u001b[0;34m(a, axis, dtype, out, keepdims, initial, where)\u001b[0m\n\u001b[1;32m     46\u001b[0m \u001b[39mdef\u001b[39;00m \u001b[39m_sum\u001b[39m(a, axis\u001b[39m=\u001b[39m\u001b[39mNone\u001b[39;00m, dtype\u001b[39m=\u001b[39m\u001b[39mNone\u001b[39;00m, out\u001b[39m=\u001b[39m\u001b[39mNone\u001b[39;00m, keepdims\u001b[39m=\u001b[39m\u001b[39mFalse\u001b[39;00m,\n\u001b[1;32m     47\u001b[0m          initial\u001b[39m=\u001b[39m_NoValue, where\u001b[39m=\u001b[39m\u001b[39mTrue\u001b[39;00m):\n\u001b[0;32m---> 48\u001b[0m     \u001b[39mreturn\u001b[39;00m umr_sum(a, axis, dtype, out, keepdims, initial, where)\n",
      "\u001b[0;31mKeyboardInterrupt\u001b[0m: "
     ]
    }
   ],
   "source": [
    "# Create a dictionary of day:theta pairs (using the same variable name to save memory)\n",
    "mi_arrays = {d.to_timestamp():_.to_numpy() for d,_ in dists.groupby(dists.index.to_period('M'))}\n",
    "\n",
    "# Calculate Linkage\n",
    "stats, mi_arrays = diachronic_linkage(mi_arrays)\n",
    "\n",
    "# Flatten MI-matrices, parse to dict\n",
    "mi_arrays_flat = {k:flatten_mi_array(v) for k,v in tqdm(mi_arrays.items())}\n",
    "\n",
    "# Create a DF with linkage scores for every pair of topics, in all time periods\n",
    "dfm = pd.DataFrame({k:v[2].to_numpy() for k,v in mi_arrays_flat.items()}).T\n",
    "columns = [v for k,v in mi_arrays_flat.items()][-2]\n",
    "columns[0] = columns[0].apply(lambda x: sem_col_translator[x])\n",
    "columns[1] = columns[1].apply(lambda x: sem_col_translator[x])\n",
    "columns = columns[[0,1]].astype(str).agg('-'.join,axis=1).tolist()\n",
    "dfm.columns = columns"
   ]
  },
  {
   "cell_type": "code",
   "execution_count": null,
   "id": "f67364df",
   "metadata": {},
   "outputs": [],
   "source": [
    "# Import the calculated stats for the linkages\n",
    "stats = pd.read_csv('results/linkage-stats-day.csv',sep='\\t')\n",
    "stats['date'] = pd.to_datetime(stats.date,infer_datetime_format=True)"
   ]
  },
  {
   "cell_type": "code",
   "execution_count": null,
   "id": "c260b6b9",
   "metadata": {},
   "outputs": [],
   "source": [
    "# Get correlations between the linkage mean, and individual diachronic linkage scores between two topics (in a specific time period)\n",
    "\n",
    "def get_correlations_period(stats, dfm, min_year, max_year):\n",
    "    \n",
    "    # Get Mean Linkages for Time Period, AFA + ZSCORE\n",
    "    lkg_trend = stats[(stats.date.dt.year >= min_year) & (stats.date.dt.year <= max_year)].mi_mu.to_numpy()\n",
    "    lkg_trend = adaptive_filter(lkg_trend)\n",
    "    lkg_trend = np.squeeze(np.asarray(lkg_trend))\n",
    "    lkg_trend = zscore(lkg_trend)\n",
    "\n",
    "    # Subset DF, transform to np\n",
    "    dfm_ = dfm[(dfm.index.year >= min_year) & (dfm.index.year <= max_year)]\n",
    "    dates = dfm_.index.tolist()\n",
    "    dfm_arr = dfm_.to_numpy()\n",
    "\n",
    "    # Loop\n",
    "    cls_ = dfm.columns\n",
    "    corr_df = []\n",
    "\n",
    "    afa_z_arrs = {}\n",
    "\n",
    "    for i in tqdm(range(dfm_arr.shape[1])):\n",
    "        a = adaptive_filter(dfm_arr[:,i])\n",
    "        a = np.squeeze(np.asarray(a))\n",
    "        a = zscore(a)\n",
    "        afa_z_arrs[cls_[i]] = a\n",
    "        corr = np.correlate(lkg_trend,a)[0]\n",
    "        corr_df.append((cls_[i],corr))\n",
    "    corr_df = pd.DataFrame(corr_df,columns=['p','corr'])\n",
    "    return corr_df, afa_z_arrs, lkg_trend, dates"
   ]
  },
  {
   "cell_type": "code",
   "execution_count": null,
   "id": "631365f8",
   "metadata": {},
   "outputs": [
    {
     "name": "stderr",
     "output_type": "stream",
     "text": [
      "100%|██████████| 30628/30628 [02:03<00:00, 248.51it/s]\n",
      "100%|██████████| 30628/30628 [02:00<00:00, 254.49it/s]\n",
      "100%|██████████| 30628/30628 [02:14<00:00, 227.40it/s]\n",
      "100%|██████████| 30628/30628 [02:19<00:00, 219.08it/s]\n",
      " 80%|████████  | 24578/30628 [02:06<00:40, 151.14it/s]"
     ]
    }
   ],
   "source": [
    "rdf = pd.DataFrame()\n",
    "\n",
    "fig,ax = plt.subplots(1,1,figsize=(10,7))\n",
    "results = dict()\n",
    "\n",
    "for r in range(1945,1966,5):\n",
    "    start_y, end_y = (r,r+5)\n",
    "    results.update({r:{}})\n",
    "    cdf, afa_z_arrs, lkg_trend, dates = get_correlations_period(stats,dfm,start_y,end_y)\n",
    "    top = cdf.sort_values('corr',ascending=False).p.tolist()[:15]\n",
    "\n",
    "    for t in top:\n",
    "        ax.plot(dates,afa_z_arrs[t],alpha=.1,c='b')\n",
    "        ax.plot(dates,lkg_trend,c='teal',lw=2)\n",
    "\n",
    "    top_lbs = [(labels[int(i.split('-')[0])],labels[int(i.split('-')[1])]) for i in top]\n",
    "    results[r]['top'] = top\n",
    "    results[r]['toplabels'] = top_lbs\n",
    "    results[r]['afa_z_arrs'] = afa_z_arrs\n",
    "    results[r]['trendline'] = lkg_trend\n",
    "    results[r]['dates'] = dates"
   ]
  },
  {
   "cell_type": "code",
   "execution_count": 59,
   "id": "852a28f7",
   "metadata": {},
   "outputs": [
    {
     "data": {
      "image/png": "[encoded data removed]",
      "text/plain": [
       "<Figure size 1800x216 with 5 Axes>"
      ]
     },
     "metadata": {
      "needs_background": "light"
     },
     "output_type": "display_data"
    }
   ],
   "source": [
    "fig,ax = plt.subplots(1,5,figsize=(25,3))\n",
    "\n",
    "c = 0\n",
    "for y,v in results.items():\n",
    "\n",
    "    ax[c].plot(v['dates'],v['trendline'])\n",
    "    ax[c].set_title(f\"{y}-{y+5}\")"
   ]
  },
  {
   "cell_type": "code",
   "execution_count": 44,
   "id": "f2705289",
   "metadata": {},
   "outputs": [
    {
     "data": {
      "text/plain": [
       "[(293,\n",
       "  'mijnwerker mijnindustrie mijnbedrijf ondergronds mir mijnstreek limburgs kolenprocductie staatsmijnen bovengronds ondergronds mijnwerker limburgs mijnbedrijf limburgs mijnindustrie urig daf'),\n",
       " (396,\n",
       "  'mijnindustrie kolenprocductie mijnbedrijf mijnwerker energiebeleid ondergronds huisbrandkool limburgs egks energiebron mijnstreek mir kool staatsmijn staatsmijnen'),\n",
       " (466,\n",
       "  'staatsmijnen nvvorm rechtsvorm mijnraad rechtsvorm staatsmijnen afstoting daf aandeelhouder commissieverdam staatsbezit breedband gasmaatschappij hoogovens nv breedband breedband nv')]"
      ]
     },
     "execution_count": 44,
     "metadata": {},
     "output_type": "execute_result"
    }
   ],
   "source": [
    "[(k,words[k]) for k,v in labels.items() if v == 'mining']"
   ]
  }
 ],
 "metadata": {
  "kernelspec": {
   "display_name": "phd_venv",
   "language": "python",
   "name": "python3"
  },
  "language_info": {
   "codemirror_mode": {
    "name": "ipython",
    "version": 3
   },
   "file_extension": ".py",
   "mimetype": "text/x-python",
   "name": "python",
   "nbconvert_exporter": "python",
   "pygments_lexer": "ipython3",
   "version": "3.10.6"
  },
  "vscode": {
   "interpreter": {
    "hash": "e8506529497a143c67e9e6ae3be7b51d1cb8f568d3562eff23fc916c00ba57ea"
   }
  }
 },
 "nbformat": 4,
 "nbformat_minor": 5
}
